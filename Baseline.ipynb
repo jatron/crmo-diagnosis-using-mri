{
 "cells": [
  {
   "cell_type": "code",
   "execution_count": 147,
   "metadata": {},
   "outputs": [],
   "source": [
    "import cv2\n",
    "import numpy as np\n",
    "import pandas as pd\n",
    "import os\n",
    "import glob\n",
    "import re\n",
    "import pickle\n",
    "from matplotlib import pyplot as plt"
   ]
  },
  {
   "cell_type": "markdown",
   "metadata": {},
   "source": [
    "## Feature Extraction"
   ]
  },
  {
   "cell_type": "markdown",
   "metadata": {},
   "source": [
    "#### Baseline"
   ]
  },
  {
   "cell_type": "markdown",
   "metadata": {},
   "source": [
    "This baseline builds a feature set by pulling pairs of images and creating a difference of the image histograms they produce. The assumption is that files are contained in some input directory in the form patientX-1.jpg, patientX-2.jpg"
   ]
  },
  {
   "cell_type": "code",
   "execution_count": 138,
   "metadata": {},
   "outputs": [],
   "source": [
    "def hist_features(img_path):\n",
    "    img = cv2.imread(img_path, 0)\n",
    "    # Based on my research 256 is the value to use for full range\n",
    "    hist = cv2.calcHist([img],[0],None,[256],[0,256])\n",
    "    return hist.flatten()\n",
    "\n",
    "def baseline_hist_diff(img_before, img_after):\n",
    "    return hist_features(img_before) - hist_features(img_after)"
   ]
  },
  {
   "cell_type": "code",
   "execution_count": 159,
   "metadata": {},
   "outputs": [],
   "source": [
    "def extract_features(input_dir):\n",
    "    img_hist = []\n",
    "    patient_ids = []\n",
    "    file_set = glob.glob(os.path.join(input_dir,'patient*-1.jpg'))\n",
    "    for f in file_set:\n",
    "        diff = baseline_hist_diff(f, f.replace(\"-1.jpg\", \"-2.jpg\"))\n",
    "        img_hist.append(diff)\n",
    "        \n",
    "        # Add patient id\n",
    "        patient_ids.append(re.search('patient(.*)-1.jpg', f).group(1))\n",
    "    column_names = [\"hist\" + str(i) for i in range(256)]\n",
    "    # Construct a pandas dataframe\n",
    "    return pd.DataFrame(img_hist, columns=column_names, index=patient_ids)\n",
    "\n",
    "r = extract_features('test_images')"
   ]
  },
  {
   "cell_type": "code",
   "execution_count": 160,
   "metadata": {},
   "outputs": [
    {
     "data": {
      "text/html": [
       "<div>\n",
       "<style scoped>\n",
       "    .dataframe tbody tr th:only-of-type {\n",
       "        vertical-align: middle;\n",
       "    }\n",
       "\n",
       "    .dataframe tbody tr th {\n",
       "        vertical-align: top;\n",
       "    }\n",
       "\n",
       "    .dataframe thead th {\n",
       "        text-align: right;\n",
       "    }\n",
       "</style>\n",
       "<table border=\"1\" class=\"dataframe\">\n",
       "  <thead>\n",
       "    <tr style=\"text-align: right;\">\n",
       "      <th></th>\n",
       "      <th>hist0</th>\n",
       "      <th>hist1</th>\n",
       "      <th>hist2</th>\n",
       "      <th>hist3</th>\n",
       "      <th>hist4</th>\n",
       "      <th>hist5</th>\n",
       "      <th>hist6</th>\n",
       "      <th>hist7</th>\n",
       "      <th>hist8</th>\n",
       "      <th>hist9</th>\n",
       "      <th>...</th>\n",
       "      <th>hist246</th>\n",
       "      <th>hist247</th>\n",
       "      <th>hist248</th>\n",
       "      <th>hist249</th>\n",
       "      <th>hist250</th>\n",
       "      <th>hist251</th>\n",
       "      <th>hist252</th>\n",
       "      <th>hist253</th>\n",
       "      <th>hist254</th>\n",
       "      <th>hist255</th>\n",
       "    </tr>\n",
       "  </thead>\n",
       "  <tbody>\n",
       "    <tr>\n",
       "      <th>A</th>\n",
       "      <td>-6310.0</td>\n",
       "      <td>-35807.0</td>\n",
       "      <td>-4816.0</td>\n",
       "      <td>-2605.0</td>\n",
       "      <td>-1620.0</td>\n",
       "      <td>-1083.0</td>\n",
       "      <td>-761.0</td>\n",
       "      <td>-568.0</td>\n",
       "      <td>-467.0</td>\n",
       "      <td>-373.0</td>\n",
       "      <td>...</td>\n",
       "      <td>-200.0</td>\n",
       "      <td>-228.0</td>\n",
       "      <td>-348.0</td>\n",
       "      <td>-489.0</td>\n",
       "      <td>-589.0</td>\n",
       "      <td>-797.0</td>\n",
       "      <td>-1028.0</td>\n",
       "      <td>-1151.0</td>\n",
       "      <td>-1675.0</td>\n",
       "      <td>-4493.0</td>\n",
       "    </tr>\n",
       "  </tbody>\n",
       "</table>\n",
       "<p>1 rows × 256 columns</p>\n",
       "</div>"
      ],
      "text/plain": [
       "    hist0    hist1   hist2   hist3   hist4   hist5  hist6  hist7  hist8  \\\n",
       "A -6310.0 -35807.0 -4816.0 -2605.0 -1620.0 -1083.0 -761.0 -568.0 -467.0   \n",
       "\n",
       "   hist9   ...     hist246  hist247  hist248  hist249  hist250  hist251  \\\n",
       "A -373.0   ...      -200.0   -228.0   -348.0   -489.0   -589.0   -797.0   \n",
       "\n",
       "   hist252  hist253  hist254  hist255  \n",
       "A  -1028.0  -1151.0  -1675.0  -4493.0  \n",
       "\n",
       "[1 rows x 256 columns]"
      ]
     },
     "execution_count": 160,
     "metadata": {},
     "output_type": "execute_result"
    }
   ],
   "source": [
    "r"
   ]
  }
 ],
 "metadata": {
  "kernelspec": {
   "display_name": "Python 3",
   "language": "python",
   "name": "python3"
  },
  "language_info": {
   "codemirror_mode": {
    "name": "ipython",
    "version": 3
   },
   "file_extension": ".py",
   "mimetype": "text/x-python",
   "name": "python",
   "nbconvert_exporter": "python",
   "pygments_lexer": "ipython3",
   "version": "3.6.6"
  }
 },
 "nbformat": 4,
 "nbformat_minor": 2
}
